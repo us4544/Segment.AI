{
  "nbformat": 4,
  "nbformat_minor": 0,
  "metadata": {
    "colab": {
      "name": "DL_Project",
      "provenance": []
    },
    "kernelspec": {
      "name": "python3",
      "display_name": "Python 3"
    },
    "language_info": {
      "name": "python"
    }
  },
  "cells": [
    {
      "cell_type": "markdown",
      "source": [
        "## Importing required libraries "
      ],
      "metadata": {
        "id": "cTg-ACJD69Gu"
      }
    },
    {
      "cell_type": "code",
      "execution_count": 1,
      "metadata": {
        "id": "Gm0lDsY34Y_0"
      },
      "outputs": [],
      "source": [
        "import torch\n",
        "import torchvision\n",
        "from PIL import Image, ImageDraw\n",
        "import cv2\n",
        "import numpy as np\n",
        "import matplotlib.pyplot as plt\n",
        "import torchvision.transforms as T\n",
        "import random"
      ]
    },
    {
      "cell_type": "markdown",
      "source": [
        "## Specifying the categories names in MS COCO Dataset"
      ],
      "metadata": {
        "id": "wy7XR20I7Nww"
      }
    },
    {
      "cell_type": "code",
      "source": [
        "__COCO_INSTANCE_CATEGORY_NAMES__ = [\n",
        "    '__background__', 'person', 'bicycle', 'car', 'motorcycle', 'airplane', 'bus',\n",
        "    'train', 'truck', 'boat', 'traffic light', 'fire hydrant', 'N/A', 'stop sign',\n",
        "    'parking meter', 'bench', 'bird', 'cat', 'dog', 'horse', 'sheep', 'cow',\n",
        "    'elephant', 'bear', 'zebra', 'giraffe', 'N/A', 'backpack', 'umbrella', 'N/A', 'N/A',\n",
        "    'handbag', 'tie', 'suitcase', 'frisbee', 'skis', 'snowboard', 'sports ball',\n",
        "    'kite', 'baseball bat', 'baseball glove', 'skateboard', 'surfboard', 'tennis racket',\n",
        "    'bottle', 'N/A', 'wine glass', 'cup', 'fork', 'knife', 'spoon', 'bowl',\n",
        "    'banana', 'apple', 'sandwich', 'orange', 'broccoli', 'carrot', 'hot dog', 'pizza',\n",
        "    'donut', 'cake', 'chair', 'couch', 'potted plant', 'bed', 'N/A', 'dining table',\n",
        "    'N/A', 'N/A', 'toilet', 'N/A', 'tv', 'laptop', 'mouse', 'remote', 'keyboard', 'cell phone',\n",
        "    'microwave', 'oven', 'toaster', 'sink', 'refrigerator', 'N/A', 'book',\n",
        "    'clock', 'vase', 'scissors', 'teddy bear', 'hair drier', 'toothbrush'\n",
        "]"
      ],
      "metadata": {
        "id": "g40Tzhea429i"
      },
      "execution_count": 2,
      "outputs": []
    },
    {
      "cell_type": "markdown",
      "source": [
        "## Defining the instance segmentattion class "
      ],
      "metadata": {
        "id": "US0JP1Ql7lj4"
      }
    },
    {
      "cell_type": "code",
      "source": [
        "class InstanceSegmentation(object):\n",
        "\n",
        "    def __init__(self, model, image):\n",
        "\n",
        "        \"\"\"\n",
        "        Parameters:\n",
        "        - model: pre-trained model to be used for instance segmentation\n",
        "        - image: PIL image input\n",
        "        \"\"\"\n",
        "\n",
        "        self.model = model.eval()\n",
        "        self.image = image\n",
        "\n",
        "    def get_prediction(self, threshold):\n",
        "\n",
        "        img = self.image\n",
        "        transform = T.Compose([T.ToTensor()])\n",
        "        img = transform(img)\n",
        "\n",
        "        pred = self.model([img])\n",
        "        pred_score = list(pred[0]['scores'].detach().numpy())\n",
        "        pred_t = [pred_score.index(x) for x in pred_score if x>threshold][-1]\n",
        "\n",
        "        masks = (pred[0]['masks']>0.5).squeeze().detach().cpu().numpy()\n",
        "\n",
        "        pred_class = [__COCO_INSTANCE_CATEGORY_NAMES__[i] for i in list(pred[0]['labels'].numpy())]\n",
        "        pred_boxes = [[(i[0], i[1]), (i[2], i[3])] for i in list(pred[0]['boxes'].detach().numpy())]\n",
        "        masks = masks[:pred_t+1]\n",
        "        pred_boxes = pred_boxes[:pred_t+1]\n",
        "        pred_class = pred_class[:pred_t+1]\n",
        "\n",
        "        return masks, pred_boxes, pred_class\n",
        "\n",
        "    def random_colour_masks(self, mask):\n",
        "\n",
        "        colours = [[0, 255, 0],[0, 0, 255],[255, 0, 0],[0, 255, 255],[255, 255, 0],[255, 0, 255],[80, 70, 180],[250, 80, 190],[245, 145, 50],[70, 150, 250],[50, 190, 190]]\n",
        "\n",
        "        r = np.zeros_like(mask).astype(np.uint8)\n",
        "        g = np.zeros_like(mask).astype(np.uint8)\n",
        "        b = np.zeros_like(mask).astype(np.uint8)\n",
        "\n",
        "        r[mask == 1], g[mask == 1], b[mask == 1] = colours[random.randrange(0,10)]\n",
        "        coloured_mask = np.stack([r, g, b], axis=2)\n",
        "\n",
        "        return coloured_mask\n",
        "\n",
        "    def instance_segmentation(self, threshold=0.5, rect_th=1, text_size=1, text_th=1):\n",
        "\n",
        "        masks, boxes, pred_cls = self.get_prediction(threshold)\n",
        "        img = self.image.convert('RGB')\n",
        "\n",
        "        for i in range(len(masks)):\n",
        "            rgb_mask = self.random_colour_masks(masks[i])\n",
        "            img = Image.blend(img, Image.fromarray(rgb_mask), 0.5)\n",
        "            img1 = ImageDraw.Draw(img)  \n",
        "            img1.rectangle([(boxes[i][0]),(boxes[i][1])], outline =\"red\", width=1)\n",
        "\n",
        "        return img"
      ],
      "metadata": {
        "id": "gfV9br7s5VV4"
      },
      "execution_count": 3,
      "outputs": []
    },
    {
      "cell_type": "markdown",
      "source": [
        "## Testing an image"
      ],
      "metadata": {
        "id": "iLHtdFNN7wTF"
      }
    },
    {
      "cell_type": "code",
      "source": [
        "model = torchvision.models.detection.maskrcnn_resnet50_fpn(pretrained=True)\n",
        "image = Image.open('/test.jpg')\n",
        "ins_seg = InstanceSegmentation(model, image)\n",
        "ins_seg.instance_segmentation()"
      ],
      "metadata": {
        "colab": {
          "base_uri": "https://localhost:8080/",
          "height": 231
        },
        "id": "qXGdcHHW5lYH",
        "outputId": "01175201-3065-40de-c9f8-47efb41f3211"
      },
      "execution_count": 6,
      "outputs": [
        {
          "output_type": "stream",
          "name": "stderr",
          "text": [
            "/usr/local/lib/python3.7/dist-packages/torch/functional.py:445: UserWarning: torch.meshgrid: in an upcoming release, it will be required to pass the indexing argument. (Triggered internally at  ../aten/src/ATen/native/TensorShape.cpp:2157.)\n",
            "  return _VF.meshgrid(tensors, **kwargs)  # type: ignore[attr-defined]\n"
          ]
        },
        {
          "output_type": "execute_result",
          "data": {
            "text/plain": [
              "<PIL.Image.Image image mode=RGB size=318x159 at 0x7F565E96F050>"
            ],
            "image/png": "[encoded data removed]"
          },
          "metadata": {},
          "execution_count": 6
        }
      ]
    }
  ]
}